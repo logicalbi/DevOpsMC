{
  "cells": [
    {
      "cell_type": "markdown",
      "id": "d4c4a25e-ff26-45ca-a8b1-f1cd5e80ee4d",
      "metadata": {
        "id": "d4c4a25e-ff26-45ca-a8b1-f1cd5e80ee4d"
      },
      "source": [
        "# Bite 4: User input validation"
      ]
    },
    {
      "cell_type": "markdown",
      "id": "66c60a71-256c-4980-82bf-eccc8b0050f3",
      "metadata": {
        "id": "66c60a71-256c-4980-82bf-eccc8b0050f3"
      },
      "source": [
        "[![Open in Colab](https://colab.research.google.com/assets/colab-badge.svg)](https://colab.research.google.com/github/Curbal-Data-Labs/python-bites/blob/main/Bites/Bite4.ipynb)"
      ]
    },
    {
      "cell_type": "markdown",
      "id": "f28def41-1cb5-4dae-9bcc-e8de0b54987a",
      "metadata": {
        "id": "f28def41-1cb5-4dae-9bcc-e8de0b54987a"
      },
      "source": [
        "### Video tutorial and Bite 4 available [here](https://curbal.com/curbal-learning-portal/bite-4)"
      ]
    },
    {
      "cell_type": "markdown",
      "id": "3d5de029-c0a0-4f95-b616-59fb7d5a5581",
      "metadata": {
        "id": "3d5de029-c0a0-4f95-b616-59fb7d5a5581"
      },
      "source": [
        "[![Bite 1](https://img.youtube.com/vi/ZgqnPYmEcXw/0.jpg)](https://www.youtube.com/watch?v=ZgqnPYmEcXw)"
      ]
    },
    {
      "cell_type": "markdown",
      "id": "c0969866-3b57-44f9-8bc9-976b7ea35259",
      "metadata": {
        "id": "c0969866-3b57-44f9-8bc9-976b7ea35259"
      },
      "source": [
        "**1.** Convert the name to Proper casing in case they write it wrong"
      ]
    },
    {
      "cell_type": "code",
      "execution_count": null,
      "id": "ca4bd5c8-c6ce-4f71-87e1-e9418bb0e97b",
      "metadata": {
        "id": "ca4bd5c8-c6ce-4f71-87e1-e9418bb0e97b"
      },
      "outputs": [],
      "source": [
        "Accept_challenge = input(\"Do you accept the challenge? (yes/no)\")\n",
        "if Accept_challenge == \"yes\":\n",
        "  Participant = input(\"What is your name?\")\n",
        "  print(\"Hello \"+ Participant.title() + \", welcome to CCl!\")\n",
        "elif Accept_challenge == \"no\":\n",
        "  print(\"bye, bye\")\n"
      ]
    },
    {
      "cell_type": "markdown",
      "id": "9c9b25d3-c3f4-4516-b38c-324e2ff2c95d",
      "metadata": {
        "id": "9c9b25d3-c3f4-4516-b38c-324e2ff2c95d"
      },
      "source": [
        "**2.** Test our code by answering \"YES\""
      ]
    },
    {
      "cell_type": "code",
      "execution_count": 1,
      "id": "1ca6d953-e550-4857-ab9a-36a75ce8fc06",
      "metadata": {
        "id": "1ca6d953-e550-4857-ab9a-36a75ce8fc06",
        "outputId": "3353e0d9-291d-4d69-9d93-4d4aa6196566",
        "colab": {
          "base_uri": "https://localhost:8080/"
        }
      },
      "outputs": [
        {
          "name": "stdout",
          "output_type": "stream",
          "text": [
            "Do you accept the challenge? (yes/no)YES\n"
          ]
        }
      ],
      "source": [
        "Accept_challenge = input(\"Do you accept the challenge? (yes/no)\")\n",
        "if Accept_challenge == \"yes\":\n",
        "  Participant = input(\"What is your name?\")\n",
        "  print(\"Hello \"+ Participant.title() + \", welcome to CCl!\")\n",
        "elif Accept_challenge == \"no\":\n",
        "  print(\"bye, bye\")"
      ]
    },
    {
      "cell_type": "markdown",
      "id": "2c86073f-4f4d-41f4-b3bb-c76dcfc6aee8",
      "metadata": {
        "id": "2c86073f-4f4d-41f4-b3bb-c76dcfc6aee8"
      },
      "source": [
        "**3.** Validate the accept_challenge question if user enters the words yes or no but in different variations (YES, yES, No, etc)"
      ]
    },
    {
      "cell_type": "code",
      "execution_count": 5,
      "id": "757e7253-bf50-4b37-bafe-2580f0125cf6",
      "metadata": {
        "id": "757e7253-bf50-4b37-bafe-2580f0125cf6",
        "outputId": "96398a75-0d46-4b21-c9f7-7b5b07511ad9",
        "colab": {
          "base_uri": "https://localhost:8080/"
        }
      },
      "outputs": [
        {
          "output_type": "stream",
          "name": "stdout",
          "text": [
            "Do you accept the challenge? (yes/no)YES\n",
            "YES\n",
            "yes\n",
            "YES\n",
            "yes\n"
          ]
        }
      ],
      "source": [
        "Accept_challenge = input(\"Do you accept the challenge? (yes/no)\")\n",
        "print(Accept_challenge)\n",
        "print(Accept_challenge.lower())\n",
        "print(Accept_challenge.strip())\n",
        "print(Accept_challenge.lower().strip())"
      ]
    },
    {
      "cell_type": "markdown",
      "id": "dac1e675-74d4-4718-bc5c-a7a1dcf7cc50",
      "metadata": {
        "id": "dac1e675-74d4-4718-bc5c-a7a1dcf7cc50"
      },
      "source": [
        "**4.** Enter something else like a number or a word (that is not yes or no)"
      ]
    },
    {
      "cell_type": "code",
      "execution_count": 9,
      "id": "30882270-112c-4f33-86f0-06f832207719",
      "metadata": {
        "id": "30882270-112c-4f33-86f0-06f832207719",
        "outputId": "e8dc4157-1b9e-4c83-919c-514a8454f5fb",
        "colab": {
          "base_uri": "https://localhost:8080/"
        }
      },
      "outputs": [
        {
          "output_type": "stream",
          "name": "stdout",
          "text": [
            "Do you accept the challenge? (yes/no)YES\n",
            "What is your name?    PAul\n",
            "Hello     Paul, welcome to CCl!\n"
          ]
        }
      ],
      "source": [
        "Accept_challenge = input(\"Do you accept the challenge? (yes/no)\")\n",
        "if Accept_challenge.lower().strip() == \"yes\":\n",
        "  Participant = input(\"What is your name?\")\n",
        "  print(\"Hello \"+Participant.title() + \", welcome to CCl!\")\n",
        "elif Accept_challenge.lower().strip() == \"no\":\n",
        "  print(\"bye, bye\")"
      ]
    },
    {
      "cell_type": "markdown",
      "id": "26716c3d-6236-438f-887d-917128e78a97",
      "metadata": {
        "id": "26716c3d-6236-438f-887d-917128e78a97"
      },
      "source": [
        "# BITE 4: Validate user input"
      ]
    },
    {
      "cell_type": "code",
      "execution_count": 11,
      "id": "6712cda8-0732-44c9-8fc6-aa30799cfac5",
      "metadata": {
        "id": "6712cda8-0732-44c9-8fc6-aa30799cfac5",
        "outputId": "23ac4d3a-da5d-4aa5-84c9-914402cf5dc6",
        "colab": {
          "base_uri": "https://localhost:8080/"
        }
      },
      "outputs": [
        {
          "output_type": "stream",
          "name": "stdout",
          "text": [
            "Do you accept the challenge? (yes/no)maybe\n",
            "We only accept yes or no answers, please try again\n",
            "\n",
            "Do you accept the challenge? (yes/no)Not sure\n",
            "We only accept yes or no answers, please try again\n",
            "\n",
            "Do you accept the challenge? (yes/no)yes\n",
            "What is your name?Chris\n",
            "Hello Chris, welcome to CCl!\n"
          ]
        }
      ],
      "source": [
        "while True:\n",
        "  Accept_challenge = input(\"Do you accept the challenge? (yes/no)\")\n",
        "\n",
        "  if Accept_challenge.lower().strip() != \"yes\" and Accept_challenge.lower().strip() != \"no\":\n",
        "    print(\"We only accept yes or no answers, please try again\\n\")\n",
        "    continue\n",
        "  else:\n",
        "    break\n",
        "\n",
        "if Accept_challenge.lower().strip() == \"yes\":\n",
        "  Participant = input(\"What is your name?\")\n",
        "  print(\"Hello \"+Participant.title() + \", welcome to CCl!\")\n",
        "elif Accept_challenge.lower().strip() == \"no\":\n",
        "  print(\"bye, bye\")  "
      ]
    },
    {
      "cell_type": "code",
      "source": [],
      "metadata": {
        "id": "vSImlrlzCVdh"
      },
      "id": "vSImlrlzCVdh",
      "execution_count": null,
      "outputs": []
    }
  ],
  "metadata": {
    "kernelspec": {
      "display_name": "Python 3 (ipykernel)",
      "language": "python",
      "name": "python3"
    },
    "language_info": {
      "codemirror_mode": {
        "name": "ipython",
        "version": 3
      },
      "file_extension": ".py",
      "mimetype": "text/x-python",
      "name": "python",
      "nbconvert_exporter": "python",
      "pygments_lexer": "ipython3",
      "version": "3.9.12"
    },
    "colab": {
      "provenance": []
    }
  },
  "nbformat": 4,
  "nbformat_minor": 5
}